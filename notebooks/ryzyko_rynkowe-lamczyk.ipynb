{
 "cells": [
  {
   "cell_type": "markdown",
   "id": "76d37685-4781-461c-93d2-1fce48f7170a",
   "metadata": {},
   "source": [
    "# Ryzyko rynkowe\n",
    "## Importy"
   ]
  },
  {
   "cell_type": "code",
   "execution_count": 1,
   "id": "d6c1b1ba-5182-4781-a015-c36ec4d385c7",
   "metadata": {},
   "outputs": [],
   "source": [
    "#pip install numpy pandas matplotlib yfinance\n",
    "import numpy as np\n",
    "import pandas as pd\n",
    "import matplotlib.pyplot as plt\n",
    "import yfinance as yf"
   ]
  },
  {
   "cell_type": "markdown",
   "id": "ee2ca05f-7afc-4a87-bd8d-913d542aa74f",
   "metadata": {},
   "source": [
    "## Pobranie danych przez API"
   ]
  },
  {
   "cell_type": "markdown",
   "id": "7b96251f-33b7-4ba3-8244-1d3fe6655846",
   "metadata": {},
   "source": [
    "Źródło danych Yahoo Finance: https://finance.yahoo.com/chart/NVDA.\n",
    "\n",
    "Zbiór cen akcji NVIDIA Corporation (NVDA) od początku 2023 roku zawiera kolumny:\n",
    "- Adj Close: skorygowana cena zamknięcia.\n",
    "- Close: cena zamknięcia.\n",
    "- High: najwyższa cena w ciągu dnia.\n",
    "- Low: najniższa cena w ciągu dnia.\n",
    "- Open: cena otwarcia.\n",
    "- Volume: liczba akcji, która zmieniła właściciela tego dnia."
   ]
  },
  {
   "cell_type": "code",
   "execution_count": 2,
   "id": "fe05dec4-7954-43f7-972a-9bceb4579fe4",
   "metadata": {},
   "outputs": [
    {
     "name": "stderr",
     "output_type": "stream",
     "text": [
      "[*********************100%***********************]  1 of 1 completed\n"
     ]
    }
   ],
   "source": [
    "data = yf.download(\"NVDA\", start=\"2023-01-01\", end=\"2023-12-31\")"
   ]
  },
  {
   "cell_type": "code",
   "execution_count": 3,
   "id": "051f48af-fc77-4ee6-83ab-9e326e1cc520",
   "metadata": {},
   "outputs": [],
   "source": [
    "data.to_csv(\"data/NVDA_data.csv\")"
   ]
  },
  {
   "cell_type": "markdown",
   "id": "0f9b381b-27b8-43ea-81f3-a18440e616e1",
   "metadata": {},
   "source": [
    "## Eksploracyjna analiza danych"
   ]
  },
  {
   "cell_type": "code",
   "execution_count": 4,
   "id": "9640286f-f213-46f3-acbe-2220aef255f2",
   "metadata": {},
   "outputs": [
    {
     "data": {
      "text/plain": [
       "(250, 6)"
      ]
     },
     "execution_count": 4,
     "metadata": {},
     "output_type": "execute_result"
    }
   ],
   "source": [
    "data = pd.read_csv(\"data/NVDA_data.csv\", header=[0, 1], index_col=0, parse_dates=True)\n",
    "data.shape"
   ]
  },
  {
   "cell_type": "code",
   "execution_count": 5,
   "id": "635d17b6-5c53-47e8-b3d4-62e1dc704313",
   "metadata": {},
   "outputs": [
    {
     "data": {
      "text/plain": [
       "MultiIndex([('Adj Close', 'NVDA'),\n",
       "            (    'Close', 'NVDA'),\n",
       "            (     'High', 'NVDA'),\n",
       "            (      'Low', 'NVDA'),\n",
       "            (     'Open', 'NVDA'),\n",
       "            (   'Volume', 'NVDA')],\n",
       "           names=['Price', 'Ticker'])"
      ]
     },
     "execution_count": 5,
     "metadata": {},
     "output_type": "execute_result"
    }
   ],
   "source": [
    "data.columns"
   ]
  },
  {
   "cell_type": "code",
   "execution_count": 6,
   "id": "db72972a-5806-4fe3-8efd-b407c3dcc03d",
   "metadata": {},
   "outputs": [
    {
     "data": {
      "text/html": [
       "<div>\n",
       "<style scoped>\n",
       "    .dataframe tbody tr th:only-of-type {\n",
       "        vertical-align: middle;\n",
       "    }\n",
       "\n",
       "    .dataframe tbody tr th {\n",
       "        vertical-align: top;\n",
       "    }\n",
       "\n",
       "    .dataframe thead tr th {\n",
       "        text-align: left;\n",
       "    }\n",
       "\n",
       "    .dataframe thead tr:last-of-type th {\n",
       "        text-align: right;\n",
       "    }\n",
       "</style>\n",
       "<table border=\"1\" class=\"dataframe\">\n",
       "  <thead>\n",
       "    <tr>\n",
       "      <th>Price</th>\n",
       "      <th>Adj Close</th>\n",
       "      <th>Close</th>\n",
       "      <th>High</th>\n",
       "      <th>Low</th>\n",
       "      <th>Open</th>\n",
       "      <th>Volume</th>\n",
       "    </tr>\n",
       "    <tr>\n",
       "      <th>Ticker</th>\n",
       "      <th>NVDA</th>\n",
       "      <th>NVDA</th>\n",
       "      <th>NVDA</th>\n",
       "      <th>NVDA</th>\n",
       "      <th>NVDA</th>\n",
       "      <th>NVDA</th>\n",
       "    </tr>\n",
       "    <tr>\n",
       "      <th>Date</th>\n",
       "      <th></th>\n",
       "      <th></th>\n",
       "      <th></th>\n",
       "      <th></th>\n",
       "      <th></th>\n",
       "      <th></th>\n",
       "    </tr>\n",
       "  </thead>\n",
       "  <tbody>\n",
       "    <tr>\n",
       "      <th>2023-01-03 00:00:00+00:00</th>\n",
       "      <td>14.305581</td>\n",
       "      <td>14.315</td>\n",
       "      <td>14.996</td>\n",
       "      <td>14.096</td>\n",
       "      <td>14.851</td>\n",
       "      <td>401277000</td>\n",
       "    </tr>\n",
       "    <tr>\n",
       "      <th>2023-01-04 00:00:00+00:00</th>\n",
       "      <td>14.739296</td>\n",
       "      <td>14.749</td>\n",
       "      <td>14.853</td>\n",
       "      <td>14.241</td>\n",
       "      <td>14.567</td>\n",
       "      <td>431324000</td>\n",
       "    </tr>\n",
       "    <tr>\n",
       "      <th>2023-01-05 00:00:00+00:00</th>\n",
       "      <td>14.255614</td>\n",
       "      <td>14.265</td>\n",
       "      <td>14.564</td>\n",
       "      <td>14.148</td>\n",
       "      <td>14.491</td>\n",
       "      <td>389168000</td>\n",
       "    </tr>\n",
       "    <tr>\n",
       "      <th>2023-01-06 00:00:00+00:00</th>\n",
       "      <td>14.849223</td>\n",
       "      <td>14.859</td>\n",
       "      <td>15.010</td>\n",
       "      <td>14.034</td>\n",
       "      <td>14.474</td>\n",
       "      <td>405044000</td>\n",
       "    </tr>\n",
       "    <tr>\n",
       "      <th>2023-01-09 00:00:00+00:00</th>\n",
       "      <td>15.617716</td>\n",
       "      <td>15.628</td>\n",
       "      <td>16.056</td>\n",
       "      <td>15.141</td>\n",
       "      <td>15.284</td>\n",
       "      <td>504231000</td>\n",
       "    </tr>\n",
       "  </tbody>\n",
       "</table>\n",
       "</div>"
      ],
      "text/plain": [
       "Price                      Adj Close   Close    High     Low    Open  \\\n",
       "Ticker                          NVDA    NVDA    NVDA    NVDA    NVDA   \n",
       "Date                                                                   \n",
       "2023-01-03 00:00:00+00:00  14.305581  14.315  14.996  14.096  14.851   \n",
       "2023-01-04 00:00:00+00:00  14.739296  14.749  14.853  14.241  14.567   \n",
       "2023-01-05 00:00:00+00:00  14.255614  14.265  14.564  14.148  14.491   \n",
       "2023-01-06 00:00:00+00:00  14.849223  14.859  15.010  14.034  14.474   \n",
       "2023-01-09 00:00:00+00:00  15.617716  15.628  16.056  15.141  15.284   \n",
       "\n",
       "Price                         Volume  \n",
       "Ticker                          NVDA  \n",
       "Date                                  \n",
       "2023-01-03 00:00:00+00:00  401277000  \n",
       "2023-01-04 00:00:00+00:00  431324000  \n",
       "2023-01-05 00:00:00+00:00  389168000  \n",
       "2023-01-06 00:00:00+00:00  405044000  \n",
       "2023-01-09 00:00:00+00:00  504231000  "
      ]
     },
     "execution_count": 6,
     "metadata": {},
     "output_type": "execute_result"
    }
   ],
   "source": [
    "data.head()"
   ]
  },
  {
   "cell_type": "markdown",
   "id": "9e72ca75-a37a-449a-91e8-af421d69b0bb",
   "metadata": {},
   "source": [
    "Spłaszczenie oznaczeń kolumn:"
   ]
  },
  {
   "cell_type": "code",
   "execution_count": 7,
   "id": "fdc41e38-29ea-4863-b0bc-a29cacade7ca",
   "metadata": {},
   "outputs": [
    {
     "data": {
      "text/html": [
       "<div>\n",
       "<style scoped>\n",
       "    .dataframe tbody tr th:only-of-type {\n",
       "        vertical-align: middle;\n",
       "    }\n",
       "\n",
       "    .dataframe tbody tr th {\n",
       "        vertical-align: top;\n",
       "    }\n",
       "\n",
       "    .dataframe thead th {\n",
       "        text-align: right;\n",
       "    }\n",
       "</style>\n",
       "<table border=\"1\" class=\"dataframe\">\n",
       "  <thead>\n",
       "    <tr style=\"text-align: right;\">\n",
       "      <th></th>\n",
       "      <th>Adj Close_NVDA</th>\n",
       "      <th>Close_NVDA</th>\n",
       "      <th>High_NVDA</th>\n",
       "      <th>Low_NVDA</th>\n",
       "      <th>Open_NVDA</th>\n",
       "      <th>Volume_NVDA</th>\n",
       "    </tr>\n",
       "    <tr>\n",
       "      <th>Date</th>\n",
       "      <th></th>\n",
       "      <th></th>\n",
       "      <th></th>\n",
       "      <th></th>\n",
       "      <th></th>\n",
       "      <th></th>\n",
       "    </tr>\n",
       "  </thead>\n",
       "  <tbody>\n",
       "    <tr>\n",
       "      <th>2023-01-03 00:00:00+00:00</th>\n",
       "      <td>14.305581</td>\n",
       "      <td>14.315</td>\n",
       "      <td>14.996</td>\n",
       "      <td>14.096</td>\n",
       "      <td>14.851</td>\n",
       "      <td>401277000</td>\n",
       "    </tr>\n",
       "    <tr>\n",
       "      <th>2023-01-04 00:00:00+00:00</th>\n",
       "      <td>14.739296</td>\n",
       "      <td>14.749</td>\n",
       "      <td>14.853</td>\n",
       "      <td>14.241</td>\n",
       "      <td>14.567</td>\n",
       "      <td>431324000</td>\n",
       "    </tr>\n",
       "    <tr>\n",
       "      <th>2023-01-05 00:00:00+00:00</th>\n",
       "      <td>14.255614</td>\n",
       "      <td>14.265</td>\n",
       "      <td>14.564</td>\n",
       "      <td>14.148</td>\n",
       "      <td>14.491</td>\n",
       "      <td>389168000</td>\n",
       "    </tr>\n",
       "    <tr>\n",
       "      <th>2023-01-06 00:00:00+00:00</th>\n",
       "      <td>14.849223</td>\n",
       "      <td>14.859</td>\n",
       "      <td>15.010</td>\n",
       "      <td>14.034</td>\n",
       "      <td>14.474</td>\n",
       "      <td>405044000</td>\n",
       "    </tr>\n",
       "    <tr>\n",
       "      <th>2023-01-09 00:00:00+00:00</th>\n",
       "      <td>15.617716</td>\n",
       "      <td>15.628</td>\n",
       "      <td>16.056</td>\n",
       "      <td>15.141</td>\n",
       "      <td>15.284</td>\n",
       "      <td>504231000</td>\n",
       "    </tr>\n",
       "  </tbody>\n",
       "</table>\n",
       "</div>"
      ],
      "text/plain": [
       "                           Adj Close_NVDA  Close_NVDA  High_NVDA  Low_NVDA  \\\n",
       "Date                                                                         \n",
       "2023-01-03 00:00:00+00:00       14.305581      14.315     14.996    14.096   \n",
       "2023-01-04 00:00:00+00:00       14.739296      14.749     14.853    14.241   \n",
       "2023-01-05 00:00:00+00:00       14.255614      14.265     14.564    14.148   \n",
       "2023-01-06 00:00:00+00:00       14.849223      14.859     15.010    14.034   \n",
       "2023-01-09 00:00:00+00:00       15.617716      15.628     16.056    15.141   \n",
       "\n",
       "                           Open_NVDA  Volume_NVDA  \n",
       "Date                                               \n",
       "2023-01-03 00:00:00+00:00     14.851    401277000  \n",
       "2023-01-04 00:00:00+00:00     14.567    431324000  \n",
       "2023-01-05 00:00:00+00:00     14.491    389168000  \n",
       "2023-01-06 00:00:00+00:00     14.474    405044000  \n",
       "2023-01-09 00:00:00+00:00     15.284    504231000  "
      ]
     },
     "execution_count": 7,
     "metadata": {},
     "output_type": "execute_result"
    }
   ],
   "source": [
    "data.columns = [\"_\".join(col).strip() for col in data.columns]\n",
    "data.head()"
   ]
  },
  {
   "cell_type": "code",
   "execution_count": 8,
   "id": "b6b08db6-c8a2-461c-9494-9cd96d766740",
   "metadata": {},
   "outputs": [
    {
     "data": {
      "text/html": [
       "<div>\n",
       "<style scoped>\n",
       "    .dataframe tbody tr th:only-of-type {\n",
       "        vertical-align: middle;\n",
       "    }\n",
       "\n",
       "    .dataframe tbody tr th {\n",
       "        vertical-align: top;\n",
       "    }\n",
       "\n",
       "    .dataframe thead th {\n",
       "        text-align: right;\n",
       "    }\n",
       "</style>\n",
       "<table border=\"1\" class=\"dataframe\">\n",
       "  <thead>\n",
       "    <tr style=\"text-align: right;\">\n",
       "      <th></th>\n",
       "      <th>Adj Close_NVDA</th>\n",
       "      <th>Close_NVDA</th>\n",
       "      <th>High_NVDA</th>\n",
       "      <th>Low_NVDA</th>\n",
       "      <th>Open_NVDA</th>\n",
       "      <th>Volume_NVDA</th>\n",
       "    </tr>\n",
       "    <tr>\n",
       "      <th>Date</th>\n",
       "      <th></th>\n",
       "      <th></th>\n",
       "      <th></th>\n",
       "      <th></th>\n",
       "      <th></th>\n",
       "      <th></th>\n",
       "    </tr>\n",
       "  </thead>\n",
       "  <tbody>\n",
       "    <tr>\n",
       "      <th>2023-12-22 00:00:00+00:00</th>\n",
       "      <td>48.819527</td>\n",
       "      <td>48.830002</td>\n",
       "      <td>49.382999</td>\n",
       "      <td>48.466999</td>\n",
       "      <td>49.195000</td>\n",
       "      <td>252507000</td>\n",
       "    </tr>\n",
       "    <tr>\n",
       "      <th>2023-12-26 00:00:00+00:00</th>\n",
       "      <td>49.268425</td>\n",
       "      <td>49.278999</td>\n",
       "      <td>49.599998</td>\n",
       "      <td>48.959999</td>\n",
       "      <td>48.967999</td>\n",
       "      <td>244200000</td>\n",
       "    </tr>\n",
       "    <tr>\n",
       "      <th>2023-12-27 00:00:00+00:00</th>\n",
       "      <td>49.406395</td>\n",
       "      <td>49.417000</td>\n",
       "      <td>49.680000</td>\n",
       "      <td>49.084999</td>\n",
       "      <td>49.511002</td>\n",
       "      <td>233648000</td>\n",
       "    </tr>\n",
       "    <tr>\n",
       "      <th>2023-12-28 00:00:00+00:00</th>\n",
       "      <td>49.511375</td>\n",
       "      <td>49.521999</td>\n",
       "      <td>49.883999</td>\n",
       "      <td>49.411999</td>\n",
       "      <td>49.643002</td>\n",
       "      <td>246587000</td>\n",
       "    </tr>\n",
       "    <tr>\n",
       "      <th>2023-12-29 00:00:00+00:00</th>\n",
       "      <td>49.511375</td>\n",
       "      <td>49.521999</td>\n",
       "      <td>49.997002</td>\n",
       "      <td>48.750999</td>\n",
       "      <td>49.813000</td>\n",
       "      <td>389293000</td>\n",
       "    </tr>\n",
       "  </tbody>\n",
       "</table>\n",
       "</div>"
      ],
      "text/plain": [
       "                           Adj Close_NVDA  Close_NVDA  High_NVDA   Low_NVDA  \\\n",
       "Date                                                                          \n",
       "2023-12-22 00:00:00+00:00       48.819527   48.830002  49.382999  48.466999   \n",
       "2023-12-26 00:00:00+00:00       49.268425   49.278999  49.599998  48.959999   \n",
       "2023-12-27 00:00:00+00:00       49.406395   49.417000  49.680000  49.084999   \n",
       "2023-12-28 00:00:00+00:00       49.511375   49.521999  49.883999  49.411999   \n",
       "2023-12-29 00:00:00+00:00       49.511375   49.521999  49.997002  48.750999   \n",
       "\n",
       "                           Open_NVDA  Volume_NVDA  \n",
       "Date                                               \n",
       "2023-12-22 00:00:00+00:00  49.195000    252507000  \n",
       "2023-12-26 00:00:00+00:00  48.967999    244200000  \n",
       "2023-12-27 00:00:00+00:00  49.511002    233648000  \n",
       "2023-12-28 00:00:00+00:00  49.643002    246587000  \n",
       "2023-12-29 00:00:00+00:00  49.813000    389293000  "
      ]
     },
     "execution_count": 8,
     "metadata": {},
     "output_type": "execute_result"
    }
   ],
   "source": [
    "data.tail()"
   ]
  },
  {
   "cell_type": "markdown",
   "id": "2a154779-67cc-4ad3-a9f0-20fa707a0c93",
   "metadata": {},
   "source": [
    "Po wyświetleniu paru pierwszych i ostatnich wierszy widzimy, że brakuje obserwacji z niektórych dni (mamy 250 obserwacji w ciągu całego 2023 roku)."
   ]
  },
  {
   "cell_type": "code",
   "execution_count": 9,
   "id": "5448554f-c616-4416-8eb9-fd53ec371589",
   "metadata": {},
   "outputs": [
    {
     "name": "stdout",
     "output_type": "stream",
     "text": [
      "<class 'pandas.core.frame.DataFrame'>\n",
      "DatetimeIndex: 250 entries, 2023-01-03 00:00:00+00:00 to 2023-12-29 00:00:00+00:00\n",
      "Data columns (total 6 columns):\n",
      " #   Column          Non-Null Count  Dtype  \n",
      "---  ------          --------------  -----  \n",
      " 0   Adj Close_NVDA  250 non-null    float64\n",
      " 1   Close_NVDA      250 non-null    float64\n",
      " 2   High_NVDA       250 non-null    float64\n",
      " 3   Low_NVDA        250 non-null    float64\n",
      " 4   Open_NVDA       250 non-null    float64\n",
      " 5   Volume_NVDA     250 non-null    int64  \n",
      "dtypes: float64(5), int64(1)\n",
      "memory usage: 13.7 KB\n"
     ]
    }
   ],
   "source": [
    "data.info()"
   ]
  },
  {
   "cell_type": "markdown",
   "id": "477a5979-5557-474f-9320-461f9165718c",
   "metadata": {},
   "source": [
    "Wykres szeregu czasowego cen zamknięcia:"
   ]
  },
  {
   "cell_type": "code",
   "execution_count": 10,
   "id": "c51fd9ce-9016-490a-8682-2b100b135e0b",
   "metadata": {},
   "outputs": [
    {
     "data": {
      "image/png": "[encoded data removed]",
      "text/plain": [
       "<Figure size 1000x600 with 1 Axes>"
      ]
     },
     "metadata": {},
     "output_type": "display_data"
    }
   ],
   "source": [
    "plt.figure(figsize=(10, 6))\n",
    "plt.plot(data.index, data[\"Close_NVDA\"], label=\"Close Price\")\n",
    "plt.xlabel(\"Date\")\n",
    "plt.ylabel(\"Close Price (USD)\")\n",
    "plt.title(\"Close Price of NVDA Over Time\")\n",
    "plt.legend()\n",
    "plt.grid()\n",
    "plt.show()"
   ]
  },
  {
   "cell_type": "markdown",
   "id": "9a31285d-17f5-45b4-8020-f8aba545c9fa",
   "metadata": {},
   "source": [
    "---"
   ]
  },
  {
   "cell_type": "code",
   "execution_count": null,
   "id": "94148713-d43d-4f1a-b827-ae20d33c70c3",
   "metadata": {},
   "outputs": [],
   "source": [
    "# Analiza danych – sprawdzenie zakresu i jakości danych (częstotliwość, wartości odstające, rozkład).\n",
    "# Kalkulacja VaR – przy założeniu normalnego rozkładu (trzeba dopasować mu i sigma) oraz dla rozkładu historycznego z danych.\n",
    "# Krótkie podsumowanie wyników – word, powerpoint lub dobrze skomentowany i opisany kod programistyczny.\n",
    "\n",
    "\n",
    "# stopa zwrotu\n",
    "# zysk lub starta\n",
    "\n",
    "# dane do zyskow i strat, mamy powiedziec co chcemy liczyc, cos tam z var, test na rozklad normalny, komentarzy duzo co widzimy na wykresach"
   ]
  },
  {
   "cell_type": "code",
   "execution_count": null,
   "id": "867f9dbd-3f60-4722-96b7-a7f18a7da540",
   "metadata": {},
   "outputs": [],
   "source": [
    "# Logarytmiczna stopa zwrotu jest preferowana przy analizach ryzyka, np. przy obliczaniu Value at Risk (VaR), ponieważ zapewnia addytywność.\n",
    "# Przy dużych zyskach/stratach różnica między stopą prostą a logarytmiczną może być znacząca."
   ]
  }
 ],
 "metadata": {
  "jupytext": {
   "formats": "ipynb,auto:percent"
  },
  "kernelspec": {
   "display_name": "Python 3 (ipykernel)",
   "language": "python",
   "name": "python3"
  },
  "language_info": {
   "codemirror_mode": {
    "name": "ipython",
    "version": 3
   },
   "file_extension": ".py",
   "mimetype": "text/x-python",
   "name": "python",
   "nbconvert_exporter": "python",
   "pygments_lexer": "ipython3",
   "version": "3.10.0"
  },
  "widgets": {
   "application/vnd.jupyter.widget-state+json": {
    "state": {},
    "version_major": 2,
    "version_minor": 0
   }
  }
 },
 "nbformat": 4,
 "nbformat_minor": 5
}
